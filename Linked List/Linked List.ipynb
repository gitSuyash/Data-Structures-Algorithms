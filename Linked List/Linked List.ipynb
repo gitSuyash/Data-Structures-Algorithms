{
 "cells": [
  {
   "cell_type": "code",
   "execution_count": 472,
   "metadata": {},
   "outputs": [],
   "source": [
    "#define a stucture of each node in linked list\n",
    "class Node:\n",
    "    \n",
    "    def __init__(self,value):\n",
    "        \n",
    "        self.value = value\n",
    "        self.next = None"
   ]
  },
  {
   "cell_type": "code",
   "execution_count": 473,
   "metadata": {},
   "outputs": [],
   "source": [
    "foo = Node(2)\n",
    "foo.next = Node(3)\n",
    "foo.next.next = Node(4)"
   ]
  },
  {
   "cell_type": "code",
   "execution_count": 474,
   "metadata": {},
   "outputs": [
    {
     "name": "stdout",
     "output_type": "stream",
     "text": [
      "2\n",
      "3\n",
      "4\n"
     ]
    }
   ],
   "source": [
    "print(foo.value)\n",
    "print(foo.next.value)\n",
    "print(foo.next.next.value)"
   ]
  },
  {
   "cell_type": "code",
   "execution_count": 475,
   "metadata": {},
   "outputs": [],
   "source": [
    "# define a geneneral class to create linked list and implement various functions\n",
    "class LinkedList:\n",
    "    \n",
    "    def __init__(self):\n",
    "        self.head = None \n",
    "    "
   ]
  },
  {
   "cell_type": "code",
   "execution_count": 476,
   "metadata": {},
   "outputs": [],
   "source": [
    "#define append method\n",
    "def append(self,value):\n",
    "        \n",
    "        if self.head == None:\n",
    "            self.head = Node(value)\n",
    "            return \n",
    "        \n",
    "        current_node = self.head\n",
    "        \n",
    "        while current_node.next:\n",
    "            current_node = current_node.next\n",
    "        current_node.next = Node(value)\n",
    "        return\n",
    "#This is the way of adding a function to a class   \n",
    "LinkedList.append = append"
   ]
  },
  {
   "cell_type": "code",
   "execution_count": 477,
   "metadata": {},
   "outputs": [],
   "source": [
    "#define traverse method\n",
    "def traverse(self):\n",
    "        if self.head == None:\n",
    "            return None\n",
    "        \n",
    "        current_node = self.head\n",
    "        \n",
    "        while current_node:\n",
    "            print(current_node.value)\n",
    "            current_node = current_node.next\n",
    "        return\n",
    "\n",
    "LinkedList.traverse = traverse"
   ]
  },
  {
   "cell_type": "code",
   "execution_count": 478,
   "metadata": {},
   "outputs": [],
   "source": [
    "# define a prepend method\n",
    "def prepend(self,value):\n",
    "        if self.head == None:\n",
    "            self.head = Node(value)\n",
    "            return\n",
    "        \n",
    "        new_node = Node(value)\n",
    "        new_node.next = self.head\n",
    "        self.head = new_node\n",
    "        return\n",
    "    \n",
    "LinkedList.prepend = prepend"
   ]
  },
  {
   "cell_type": "code",
   "execution_count": 479,
   "metadata": {},
   "outputs": [],
   "source": [
    "#define a search method\n",
    "def search(self,value):\n",
    "        \n",
    "        if self.head == None:\n",
    "            return\n",
    "        current_node = self.head\n",
    "        i=0\n",
    "        while current_node:\n",
    "            if current_node.value == value:\n",
    "                return ('Node found at',i) \n",
    "            current_node = current_node.next\n",
    "            i+=1\n",
    "LinkedList.search = search"
   ]
  },
  {
   "cell_type": "code",
   "execution_count": 480,
   "metadata": {},
   "outputs": [],
   "source": [
    "#define a pop method\n",
    "def pop(self):\n",
    "        \n",
    "        if self.head == None:\n",
    "            return\n",
    "        node_value = self.head.value\n",
    "        self.head = self.head.next\n",
    "        return ('value popped', node_value)\n",
    "LinkedList.pop = pop"
   ]
  },
  {
   "cell_type": "code",
   "execution_count": 481,
   "metadata": {},
   "outputs": [],
   "source": [
    "#define a remove method\n",
    "#linked list is considered here to be 0-indexed\n",
    "def remove(self,value):\n",
    "        \n",
    "        if self.head == None:\n",
    "            return\n",
    "        \n",
    "        elif self.head.value == value:\n",
    "            return self.pop()\n",
    "        current_node = self.head\n",
    "        i=1\n",
    "        while current_node:\n",
    "            if current_node.next.value == value:\n",
    "                current_node.next = current_node.next.next\n",
    "                return 'Removed element from ',i\n",
    "            current_node=current_node.next\n",
    "            i+=1\n",
    "LinkedList.remove = remove"
   ]
  },
  {
   "cell_type": "code",
   "execution_count": 482,
   "metadata": {},
   "outputs": [],
   "source": [
    "#define a method to reverse a given linked list\n",
    "def reverse(self):\n",
    "        \n",
    "        if self.head == None:\n",
    "            return\n",
    "        \n",
    "        new_list = LinkedList()\n",
    "        \n",
    "        current_node = self.head\n",
    "        \n",
    "        while current_node:\n",
    "            new_list.prepend(current_node.value)\n",
    "            current_node = current_node.next\n",
    "        return new_list\n",
    "LinkedList.reverse = reverse"
   ]
  },
  {
   "cell_type": "code",
   "execution_count": 483,
   "metadata": {},
   "outputs": [],
   "source": [
    "# define a method to insert element at a given position in linked list\n",
    "#indexing of the linked list is considered to start from 0\n",
    "def insert(self, value, pos):\n",
    "    \n",
    "        if self.head is None:\n",
    "            self.head = Node(value)\n",
    "            return\n",
    "        \n",
    "        if pos == 0:\n",
    "            self.prepend(value)\n",
    "            return\n",
    "\n",
    "        index = 0\n",
    "        node = self.head\n",
    "        while node.next and index <= pos:\n",
    "            if (pos - 1) == index:\n",
    "                new_node = Node(value)\n",
    "                new_node.next = node.next\n",
    "                node.next = new_node\n",
    "                return\n",
    "\n",
    "            index += 1\n",
    "            node = node.next\n",
    "        else:\n",
    "            self.append(value)\n",
    "LinkedList.insert = insert"
   ]
  },
  {
   "cell_type": "code",
   "execution_count": 484,
   "metadata": {},
   "outputs": [],
   "source": [
    "#function to convert a linked list into a list\n",
    "def to_list(self):\n",
    "        if self.head == None:\n",
    "            return\n",
    "        current_node = self.head\n",
    "        output_list = []\n",
    "        while current_node:\n",
    "            output_list.append(current_node.value)\n",
    "            current_node = current_node.next\n",
    "        return output_list\n",
    "LinkedList.to_list = to_list"
   ]
  },
  {
   "cell_type": "code",
   "execution_count": 485,
   "metadata": {},
   "outputs": [],
   "source": [
    "# write a function to find size of linked list\n",
    "def size(self):\n",
    "    if self.head == None:\n",
    "        return \n",
    "    current_node =self.head\n",
    "    size=0\n",
    "    while current_node:\n",
    "        size+=1\n",
    "        current_node = current_node.next\n",
    "    return size\n",
    "LinkedList.size = size"
   ]
  },
  {
   "cell_type": "code",
   "execution_count": 486,
   "metadata": {},
   "outputs": [],
   "source": [
    "llist = LinkedList()\n",
    "llist.append(2)\n",
    "llist.append(9090)\n",
    "llist.append(200)\n",
    "llist.append(309)"
   ]
  },
  {
   "cell_type": "code",
   "execution_count": 487,
   "metadata": {},
   "outputs": [
    {
     "name": "stdout",
     "output_type": "stream",
     "text": [
      "2\n",
      "9090\n",
      "200\n",
      "309\n"
     ]
    }
   ],
   "source": [
    "llist.traverse()"
   ]
  },
  {
   "cell_type": "code",
   "execution_count": 488,
   "metadata": {},
   "outputs": [],
   "source": [
    "llist.prepend(1000)\n",
    "llist.prepend(911000)\n",
    "llist.prepend(1213)"
   ]
  },
  {
   "cell_type": "code",
   "execution_count": 489,
   "metadata": {},
   "outputs": [
    {
     "name": "stdout",
     "output_type": "stream",
     "text": [
      "1213\n",
      "911000\n",
      "1000\n",
      "2\n",
      "9090\n",
      "200\n",
      "309\n"
     ]
    }
   ],
   "source": [
    "llist.traverse()"
   ]
  },
  {
   "cell_type": "code",
   "execution_count": 490,
   "metadata": {},
   "outputs": [
    {
     "data": {
      "text/plain": [
       "('Node found at', 3)"
      ]
     },
     "execution_count": 490,
     "metadata": {},
     "output_type": "execute_result"
    }
   ],
   "source": [
    "llist.search(2)"
   ]
  },
  {
   "cell_type": "code",
   "execution_count": 491,
   "metadata": {},
   "outputs": [
    {
     "data": {
      "text/plain": [
       "('value popped', 1213)"
      ]
     },
     "execution_count": 491,
     "metadata": {},
     "output_type": "execute_result"
    }
   ],
   "source": [
    "llist.pop()\n"
   ]
  },
  {
   "cell_type": "code",
   "execution_count": 492,
   "metadata": {},
   "outputs": [
    {
     "name": "stdout",
     "output_type": "stream",
     "text": [
      "911000\n",
      "1000\n",
      "2\n",
      "9090\n",
      "200\n",
      "309\n"
     ]
    }
   ],
   "source": [
    "llist.traverse()"
   ]
  },
  {
   "cell_type": "code",
   "execution_count": 493,
   "metadata": {},
   "outputs": [
    {
     "data": {
      "text/plain": [
       "('Removed element from ', 2)"
      ]
     },
     "execution_count": 493,
     "metadata": {},
     "output_type": "execute_result"
    }
   ],
   "source": [
    "llist.remove(2)"
   ]
  },
  {
   "cell_type": "code",
   "execution_count": 494,
   "metadata": {},
   "outputs": [
    {
     "name": "stdout",
     "output_type": "stream",
     "text": [
      "911000\n",
      "1000\n",
      "9090\n",
      "200\n",
      "309\n"
     ]
    }
   ],
   "source": [
    "llist.traverse()"
   ]
  },
  {
   "cell_type": "code",
   "execution_count": 495,
   "metadata": {},
   "outputs": [
    {
     "data": {
      "text/plain": [
       "('Removed element from ', 3)"
      ]
     },
     "execution_count": 495,
     "metadata": {},
     "output_type": "execute_result"
    }
   ],
   "source": [
    "llist.remove(200)"
   ]
  },
  {
   "cell_type": "code",
   "execution_count": 496,
   "metadata": {},
   "outputs": [
    {
     "name": "stdout",
     "output_type": "stream",
     "text": [
      "911000\n",
      "1000\n",
      "9090\n",
      "309\n"
     ]
    }
   ],
   "source": [
    "llist.traverse()"
   ]
  },
  {
   "cell_type": "code",
   "execution_count": 497,
   "metadata": {},
   "outputs": [],
   "source": [
    "llist.insert(888,1)"
   ]
  },
  {
   "cell_type": "code",
   "execution_count": 498,
   "metadata": {},
   "outputs": [
    {
     "data": {
      "text/plain": [
       "[911000, 888, 1000, 9090, 309]"
      ]
     },
     "execution_count": 498,
     "metadata": {},
     "output_type": "execute_result"
    }
   ],
   "source": [
    "mylist = llist.to_list()\n",
    "mylist"
   ]
  },
  {
   "cell_type": "code",
   "execution_count": 499,
   "metadata": {},
   "outputs": [
    {
     "name": "stdout",
     "output_type": "stream",
     "text": [
      "309\n",
      "9090\n",
      "1000\n",
      "888\n",
      "911000\n"
     ]
    }
   ],
   "source": [
    "reversed_list = llist.reverse()\n",
    "reversed_list.traverse()"
   ]
  },
  {
   "cell_type": "code",
   "execution_count": 500,
   "metadata": {},
   "outputs": [
    {
     "name": "stdout",
     "output_type": "stream",
     "text": [
      "5\n"
     ]
    }
   ],
   "source": [
    "print(llist.size())"
   ]
  },
  {
   "cell_type": "code",
   "execution_count": 501,
   "metadata": {},
   "outputs": [],
   "source": [
    "#converting a given list to linked list\n",
    "def create_linked_list(input_list):\n",
    "    \n",
    "    head = None\n",
    "    tail = None    \n",
    "        \n",
    "    for i in range(len(input_list)):\n",
    "        \n",
    "        if head == None:\n",
    "            head = Node(input_list[i])\n",
    "            tail = head\n",
    "        else:\n",
    "            tail.next = Node(input_list[i])\n",
    "            tail = tail.next\n",
    "        \n",
    "    return head"
   ]
  },
  {
   "cell_type": "code",
   "execution_count": 502,
   "metadata": {},
   "outputs": [
    {
     "name": "stdout",
     "output_type": "stream",
     "text": [
      "1\n",
      "2\n",
      "3\n",
      "4\n"
     ]
    }
   ],
   "source": [
    "mylinkedlist = create_linked_list([1,2,3,4])\n",
    "print(mylinkedlist.value)\n",
    "print(mylinkedlist.next.value)\n",
    "print(mylinkedlist.next.next.value)\n",
    "print(mylinkedlist.next.next.next.value)"
   ]
  }
 ],
 "metadata": {
  "kernelspec": {
   "display_name": "Python 3",
   "language": "python",
   "name": "python3"
  },
  "language_info": {
   "codemirror_mode": {
    "name": "ipython",
    "version": 3
   },
   "file_extension": ".py",
   "mimetype": "text/x-python",
   "name": "python",
   "nbconvert_exporter": "python",
   "pygments_lexer": "ipython3",
   "version": "3.7.1"
  }
 },
 "nbformat": 4,
 "nbformat_minor": 2
}
