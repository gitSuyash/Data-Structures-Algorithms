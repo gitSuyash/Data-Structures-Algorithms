{
  "nbformat": 4,
  "nbformat_minor": 0,
  "metadata": {
    "colab": {
      "name": "Stack using Linked List.ipynb",
      "provenance": []
    },
    "kernelspec": {
      "name": "python3",
      "display_name": "Python 3"
    }
  },
  "cells": [
    {
      "cell_type": "code",
      "metadata": {
        "id": "VWGeKuTTzQ1z",
        "colab_type": "code",
        "colab": {}
      },
      "source": [
        "class Node:\n",
        "  def __init__(self,value):\n",
        "    self.value = value\n",
        "    self.next = None"
      ],
      "execution_count": 0,
      "outputs": []
    },
    {
      "cell_type": "code",
      "metadata": {
        "id": "R403Y-1LzaJ7",
        "colab_type": "code",
        "colab": {}
      },
      "source": [
        "class Stack:\n",
        "  def __init__(self):\n",
        "    self.head = None\n",
        "    self.num_elements = 0"
      ],
      "execution_count": 0,
      "outputs": []
    },
    {
      "cell_type": "code",
      "metadata": {
        "id": "88FLT2gozjr9",
        "colab_type": "code",
        "colab": {}
      },
      "source": [
        "def push(self,value):\n",
        "  new_node = Node(value)\n",
        "  if self.head == None:\n",
        "    self.head = new_node\n",
        "    self.num_elements+=1\n",
        "    return\n",
        "  else:\n",
        "    new_node.next = self.head\n",
        "    self.head = new_node\n",
        "    self.num_elements+=1\n",
        "    return\n",
        "\n",
        "  \n",
        "Stack.push = push\n",
        "  "
      ],
      "execution_count": 0,
      "outputs": []
    },
    {
      "cell_type": "code",
      "metadata": {
        "id": "z2UgvPve0Gr_",
        "colab_type": "code",
        "colab": {}
      },
      "source": [
        "def print_my_stack(self):\n",
        "  if self.head == None:\n",
        "    print(' No elements yet')\n",
        "    return\n",
        "\n",
        "  current_node = self.head\n",
        "  while current_node:\n",
        "    print(current_node.value)\n",
        "    current_node = current_node.next\n",
        "  return\n",
        "Stack.print_my_stack = print_my_stack"
      ],
      "execution_count": 0,
      "outputs": []
    },
    {
      "cell_type": "code",
      "metadata": {
        "id": "Nhs-deMG1Djk",
        "colab_type": "code",
        "colab": {}
      },
      "source": [
        "def pop(self):\n",
        "  if self.head == None:\n",
        "    return \n",
        "\n",
        "  else:\n",
        "    popped_value = self.head.value\n",
        "    self.head = self.head.next\n",
        "    self.num_elements-=1\n",
        "    return popped_value\n",
        "Stack.pop = pop\n"
      ],
      "execution_count": 0,
      "outputs": []
    },
    {
      "cell_type": "code",
      "metadata": {
        "id": "uNKiRD9D3sIM",
        "colab_type": "code",
        "colab": {}
      },
      "source": [
        "def size(self):\n",
        "  print(' Elements in stack:',self.num_elements)\n",
        "Stack.size = size"
      ],
      "execution_count": 0,
      "outputs": []
    },
    {
      "cell_type": "code",
      "metadata": {
        "id": "0lAfwT2g0ld5",
        "colab_type": "code",
        "colab": {}
      },
      "source": [
        "stack = Stack()"
      ],
      "execution_count": 0,
      "outputs": []
    },
    {
      "cell_type": "code",
      "metadata": {
        "id": "h4UGQu8o0nlp",
        "colab_type": "code",
        "colab": {
          "base_uri": "https://localhost:8080/",
          "height": 34
        },
        "outputId": "953566a0-b6ce-4441-a8e4-762d2c677fe3"
      },
      "source": [
        "stack.print_my_stack()"
      ],
      "execution_count": 86,
      "outputs": [
        {
          "output_type": "stream",
          "text": [
            " No elements yet\n"
          ],
          "name": "stdout"
        }
      ]
    },
    {
      "cell_type": "code",
      "metadata": {
        "id": "HXMKhcXF0xsf",
        "colab_type": "code",
        "colab": {
          "base_uri": "https://localhost:8080/",
          "height": 85
        },
        "outputId": "a1ddb0bc-05a9-40df-9fcc-7a38a1bdd422"
      },
      "source": [
        "stack.push(1)\n",
        "stack.push(2)\n",
        "stack.push(3)\n",
        "stack.print_my_stack()\n",
        "stack.size()"
      ],
      "execution_count": 87,
      "outputs": [
        {
          "output_type": "stream",
          "text": [
            "3\n",
            "2\n",
            "1\n",
            " Elements in stack: 3\n"
          ],
          "name": "stdout"
        }
      ]
    },
    {
      "cell_type": "code",
      "metadata": {
        "id": "NdlPLRam04qL",
        "colab_type": "code",
        "colab": {
          "base_uri": "https://localhost:8080/",
          "height": 68
        },
        "outputId": "910839aa-efd4-4d41-d342-c292fd61758d"
      },
      "source": [
        "stack.pop()\n",
        "stack.print_my_stack()\n",
        "stack.size()"
      ],
      "execution_count": 88,
      "outputs": [
        {
          "output_type": "stream",
          "text": [
            "2\n",
            "1\n",
            " Elements in stack: 2\n"
          ],
          "name": "stdout"
        }
      ]
    },
    {
      "cell_type": "code",
      "metadata": {
        "id": "dWibGsSt3KOO",
        "colab_type": "code",
        "colab": {
          "base_uri": "https://localhost:8080/",
          "height": 51
        },
        "outputId": "bc7fa5e7-fca1-4e9b-ca73-a13f7ae578c8"
      },
      "source": [
        "stack.pop()\n",
        "stack.print_my_stack()\n",
        "stack.size()"
      ],
      "execution_count": 89,
      "outputs": [
        {
          "output_type": "stream",
          "text": [
            "1\n",
            " Elements in stack: 1\n"
          ],
          "name": "stdout"
        }
      ]
    },
    {
      "cell_type": "code",
      "metadata": {
        "id": "JDltPtTJ3LQf",
        "colab_type": "code",
        "colab": {
          "base_uri": "https://localhost:8080/",
          "height": 51
        },
        "outputId": "4f2322f6-0947-457e-984b-9ca7be790aea"
      },
      "source": [
        "stack.pop()\n",
        "stack.print_my_stack()\n",
        "stack.size()"
      ],
      "execution_count": 90,
      "outputs": [
        {
          "output_type": "stream",
          "text": [
            " No elements yet\n",
            " Elements in stack: 0\n"
          ],
          "name": "stdout"
        }
      ]
    }
  ]
}